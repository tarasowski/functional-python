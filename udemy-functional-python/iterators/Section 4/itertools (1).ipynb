{
 "cells": [
  {
   "cell_type": "markdown",
   "metadata": {},
   "source": [
    "# The `itertools` module\n",
    "\n",
    "The `itertools` module provides many convenient functions for working with iterators. Below is a useful selection, but there are more!"
   ]
  },
  {
   "cell_type": "code",
   "execution_count": 1,
   "metadata": {
    "collapsed": true
   },
   "outputs": [],
   "source": [
    "import itertools as it"
   ]
  },
  {
   "cell_type": "markdown",
   "metadata": {
    "collapsed": true
   },
   "source": [
    "## Functions that create (or operate on) iterators\n",
    "\n",
    "`count()` returns an infinite counter. (So it's like an infinite `range()`.)"
   ]
  },
  {
   "cell_type": "code",
   "execution_count": 3,
   "metadata": {
    "collapsed": false
   },
   "outputs": [
    {
     "name": "stdout",
     "output_type": "stream",
     "text": [
      "10\n",
      "9\n",
      "8\n",
      "7\n",
      "6\n",
      "5\n",
      "4\n",
      "3\n",
      "2\n",
      "1\n"
     ]
    }
   ],
   "source": [
    "for i in it.count(start=10, step=-1):\n",
    "    if not i:\n",
    "        break\n",
    "    print(i)\n"
   ]
  },
  {
   "cell_type": "markdown",
   "metadata": {},
   "source": [
    "`cycle()` loops an iterator infinitely."
   ]
  },
  {
   "cell_type": "code",
   "execution_count": 5,
   "metadata": {
    "collapsed": false
   },
   "outputs": [
    {
     "name": "stdout",
     "output_type": "stream",
     "text": [
      "0 i\n",
      "1 t\n",
      "2 e\n",
      "3 r\n",
      "4 a\n",
      "5 t\n",
      "6 o\n",
      "7 r\n",
      "8 s\n",
      "9  \n",
      "10 r\n",
      "11 o\n",
      "12 c\n",
      "13 k\n",
      "14 i\n",
      "15 t\n",
      "16 e\n",
      "17 r\n",
      "18 a\n",
      "19 t\n"
     ]
    }
   ],
   "source": [
    "s = 'iterators rock'\n",
    "for i, ch in zip(range(20), it.cycle(s)):\n",
    "    print(i, ch)"
   ]
  },
  {
   "cell_type": "markdown",
   "metadata": {},
   "source": [
    "`repeat()` creates an infinite iterator from a single element."
   ]
  },
  {
   "cell_type": "code",
   "execution_count": 6,
   "metadata": {
    "collapsed": false
   },
   "outputs": [
    {
     "name": "stdout",
     "output_type": "stream",
     "text": [
      "0 iterators rock\n",
      "1 iterators rock\n",
      "2 iterators rock\n",
      "3 iterators rock\n",
      "4 iterators rock\n",
      "5 iterators rock\n",
      "6 iterators rock\n",
      "7 iterators rock\n",
      "8 iterators rock\n",
      "9 iterators rock\n"
     ]
    }
   ],
   "source": [
    "s = 'iterators rock'\n",
    "for i, s in zip(range(10), it.repeat(s)):\n",
    "    print(i, s)"
   ]
  },
  {
   "cell_type": "markdown",
   "metadata": {},
   "source": [
    "`chain()` links multiple tail to head."
   ]
  },
  {
   "cell_type": "code",
   "execution_count": 7,
   "metadata": {
    "collapsed": false
   },
   "outputs": [
    {
     "name": "stdout",
     "output_type": "stream",
     "text": [
      "a\n",
      "b\n",
      "c\n",
      "3\n",
      "2\n",
      "1\n",
      "c\n",
      "b\n",
      "a\n"
     ]
    }
   ],
   "source": [
    "for e in it.chain('abc', [3,2,1], 'cba'):\n",
    "    print(e)"
   ]
  },
  {
   "cell_type": "markdown",
   "metadata": {},
   "source": [
    "## Functions to select and group iterator elements\n",
    "\n",
    "`compress()` filters an iterator based on a list of selectors. Selectors can be any values that evaluate to boolean `True` or `False`."
   ]
  },
  {
   "cell_type": "code",
   "execution_count": 8,
   "metadata": {
    "collapsed": false
   },
   "outputs": [
    {
     "name": "stdout",
     "output_type": "stream",
     "text": [
      "iterators\n",
      "rock\n"
     ]
    }
   ],
   "source": [
    "sentence = 'iterators', \"don't\", 'rock'\n",
    "selector = True, False, True\n",
    "for word in it.compress(sentence, selector):\n",
    "    print(word)"
   ]
  },
  {
   "cell_type": "markdown",
   "metadata": {},
   "source": [
    "`takewhile()` takes elements while a criterion is satisfied."
   ]
  },
  {
   "cell_type": "code",
   "execution_count": 9,
   "metadata": {
    "collapsed": false
   },
   "outputs": [
    {
     "name": "stdout",
     "output_type": "stream",
     "text": [
      "0\n",
      "1\n",
      "2\n",
      "3\n",
      "4\n",
      "5\n",
      "6\n",
      "7\n",
      "8\n",
      "9\n"
     ]
    }
   ],
   "source": [
    "for i in it.takewhile(lambda x: x < 10, it.count()):\n",
    "    print(i)"
   ]
  },
  {
   "cell_type": "markdown",
   "metadata": {},
   "source": [
    "`dropwhile()` does the opposite: it skips elements while a criterion is satisfied."
   ]
  },
  {
   "cell_type": "code",
   "execution_count": 10,
   "metadata": {
    "collapsed": false
   },
   "outputs": [
    {
     "name": "stdout",
     "output_type": "stream",
     "text": [
      "5\n",
      "6\n",
      "7\n",
      "8\n",
      "9\n",
      "10\n"
     ]
    }
   ],
   "source": [
    "for i in it.dropwhile(lambda x: x < 5, it.count()):\n",
    "    if i > 10:\n",
    "        break\n",
    "    print(i)"
   ]
  },
  {
   "cell_type": "markdown",
   "metadata": {},
   "source": [
    "`groupby()` allows you to split an interator into multiple iterators based on a grouping key. Groups have to be consecutive, meaning that you generally want to sort the iterator by the grouping function."
   ]
  },
  {
   "cell_type": "code",
   "execution_count": 12,
   "metadata": {
    "collapsed": false
   },
   "outputs": [
    {
     "name": "stdout",
     "output_type": "stream",
     "text": [
      "False [1, 3, 5, 7, 9]\n",
      "True [0, 2, 4, 6, 8]\n"
     ]
    }
   ],
   "source": [
    "is_even = lambda x: not x%2\n",
    "\n",
    "for e, g in it.groupby(\n",
    "        sorted(range(10), key=is_even),\n",
    "        key=is_even\n",
    "    ):\n",
    "    print(e, list(g))\n"
   ]
  },
  {
   "cell_type": "markdown",
   "metadata": {},
   "source": [
    "## Combinatorial functions\n",
    "\n",
    "`product()` returns the cartesian product of two iterators, which is roughly equal to a nested `for` loop."
   ]
  },
  {
   "cell_type": "code",
   "execution_count": 13,
   "metadata": {
    "collapsed": false
   },
   "outputs": [
    {
     "name": "stdout",
     "output_type": "stream",
     "text": [
      "0 3\n",
      "0 4\n",
      "0 5\n",
      "1 3\n",
      "1 4\n",
      "1 5\n",
      "2 3\n",
      "2 4\n",
      "2 5\n"
     ]
    }
   ],
   "source": [
    "for x, y in it.product([0,1,2], [3,4,5]):\n",
    "    print(x, y)"
   ]
  },
  {
   "cell_type": "markdown",
   "metadata": {},
   "source": [
    "`permutations()` returns all possible different orders (permutations) of the elements in an iterator."
   ]
  },
  {
   "cell_type": "code",
   "execution_count": 14,
   "metadata": {
    "collapsed": false
   },
   "outputs": [
    {
     "name": "stdout",
     "output_type": "stream",
     "text": [
      "[1, 2, 3]\n",
      "[1, 3, 2]\n",
      "[2, 1, 3]\n",
      "[2, 3, 1]\n",
      "[3, 1, 2]\n",
      "[3, 2, 1]\n"
     ]
    }
   ],
   "source": [
    "for i in it.permutations([1,2,3]):\n",
    "    print(list(i))"
   ]
  },
  {
   "cell_type": "markdown",
   "metadata": {},
   "source": [
    "`combinations()` returns all possible ways in which an `r` number of elements can be selected from an iterator, irrespective of the order."
   ]
  },
  {
   "cell_type": "code",
   "execution_count": 15,
   "metadata": {
    "collapsed": false
   },
   "outputs": [
    {
     "name": "stdout",
     "output_type": "stream",
     "text": [
      "[1, 2]\n",
      "[1, 3]\n",
      "[2, 3]\n"
     ]
    }
   ],
   "source": [
    "for i in it.combinations([1,2,3], r=2):\n",
    "    print(list(i))"
   ]
  }
 ],
 "metadata": {
  "kernelspec": {
   "display_name": "Python 3",
   "language": "python",
   "name": "python3"
  },
  "language_info": {
   "codemirror_mode": {
    "name": "ipython",
    "version": 3
   },
   "file_extension": ".py",
   "mimetype": "text/x-python",
   "name": "python",
   "nbconvert_exporter": "python",
   "pygments_lexer": "ipython3",
   "version": "3.6.3"
  }
 },
 "nbformat": 4,
 "nbformat_minor": 2
}
