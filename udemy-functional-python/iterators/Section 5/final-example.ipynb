{
 "cells": [
  {
   "cell_type": "markdown",
   "metadata": {},
   "source": [
    "# A sensible interactive calculator built with various programming techniques!"
   ]
  },
  {
   "cell_type": "code",
   "execution_count": 1,
   "metadata": {
    "collapsed": false
   },
   "outputs": [
    {
     "name": "stdout",
     "output_type": "stream",
     "text": [
      "1\n",
      "+\n",
      "2\n",
      "1.000000 + 2.000000 = 3.000000\n",
      "/\n",
      "1.5\n",
      "3.000000 / 1.500000 = 2.000000\n",
      "invalid\n",
      "Please enter a number or an operator\n",
      "exit\n"
     ]
    }
   ],
   "source": [
    "import functools as ft\n",
    "import itertools as it\n",
    "\n",
    "OPERATORS = '+', '-', '/', '*'\n",
    "EXIT_COMMANDS = 'exit', 'quit'\n",
    "\n",
    "\n",
    "def can_calculate(state):\n",
    "    \n",
    "    if len(state) < 3:\n",
    "        return False\n",
    "    *_, i1, op, i2 = state\n",
    "    return isinstance(i1, float) and op in OPERATORS and isinstance(i2, float)\n",
    "\n",
    "\n",
    "def calculate(state):\n",
    "    \n",
    "    *_, i1, op, i2 = state\n",
    "    if op == '+':\n",
    "        result = i1 + i2\n",
    "    elif op == '-':\n",
    "        result = i1 - i2\n",
    "    elif op == '/':\n",
    "        result = i1 / i2\n",
    "    elif op == '*':\n",
    "        result = i1 * i2\n",
    "    print('%f %s %f = %f' % (i1, op, i2, result))\n",
    "    return result\n",
    "\n",
    "\n",
    "def validate_input(fnc):\n",
    "    \n",
    "    def inner():\n",
    "        \n",
    "        i = fnc()\n",
    "        try:\n",
    "            i = float(i)\n",
    "        except ValueError:\n",
    "            pass\n",
    "        if isinstance(i, float) or i in OPERATORS or i in EXIT_COMMANDS:            \n",
    "            return i\n",
    "        return None\n",
    "    \n",
    "    return inner\n",
    "\n",
    "\n",
    "@validate_input\n",
    "def get_input():\n",
    "    \n",
    "    return input()\n",
    "\n",
    "\n",
    "def process_input():\n",
    "    \n",
    "    state = []\n",
    "    while True:\n",
    "        update = yield\n",
    "        state.append(update)\n",
    "        if can_calculate(state):\n",
    "            result = calculate(state)\n",
    "            state.append(result)\n",
    "\n",
    "\n",
    "def calculator():\n",
    "    \n",
    "    g = process_input()\n",
    "    g.send(None)\n",
    "    while True:\n",
    "        i = get_input()\n",
    "        if i is None:\n",
    "            print('Please enter a number or an operator')\n",
    "            continue\n",
    "        if i in EXIT_COMMANDS:\n",
    "            break\n",
    "        g.send(i)\n",
    "    \n",
    "\n",
    "calculator()"
   ]
  }
 ],
 "metadata": {
  "kernelspec": {
   "display_name": "Python 3",
   "language": "python",
   "name": "python3"
  },
  "language_info": {
   "codemirror_mode": {
    "name": "ipython",
    "version": 3
   },
   "file_extension": ".py",
   "mimetype": "text/x-python",
   "name": "python",
   "nbconvert_exporter": "python",
   "pygments_lexer": "ipython3",
   "version": "3.6.3"
  }
 },
 "nbformat": 4,
 "nbformat_minor": 2
}
