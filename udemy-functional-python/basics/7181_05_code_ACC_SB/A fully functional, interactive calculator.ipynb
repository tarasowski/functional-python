{
 "cells": [
  {
   "cell_type": "markdown",
   "metadata": {},
   "source": [
    "## Our functional calculator … so far\n",
    "\n",
    "This is the calculator that we implemented in the first section. But it suffers from a few drawbacks:\n",
    "\n",
    "- No input validation\n",
    "- No looping"
   ]
  },
  {
   "cell_type": "code",
   "execution_count": 3,
   "metadata": {
    "collapsed": false
   },
   "outputs": [
    {
     "name": "stdout",
     "output_type": "stream",
     "text": [
      "Enter an integer: 1\n",
      "Enter an operator (+, -, *, /): x\n",
      "Enter an integer: 2\n",
      "The result is: None\n"
     ]
    }
   ],
   "source": [
    "OPERATORS = '+', '-', '*', '/'\n",
    "\n",
    "\n",
    "def f_get_number():\n",
    "    return int(input('Enter an integer: '))\n",
    "\n",
    "\n",
    "def f_get_operator():\n",
    "    return input('Enter an operator (+, -, *, /): ')\n",
    "\n",
    "\n",
    "def f_calculate(number1, operator, number2):\n",
    "    return number1+number2 if operator == '+' \\\n",
    "        else number1-number2 if operator == '-' \\\n",
    "        else number1/number2 if operator == '/' \\\n",
    "        else number1*number2 if operator == '*' \\\n",
    "        else None    \n",
    "\n",
    "\n",
    "def f_main():\n",
    "    return f_calculate(\n",
    "        f_get_number(),\n",
    "        f_get_operator(),\n",
    "        f_get_number(),\n",
    "        )\n",
    "\n",
    "\n",
    "print('The result is: %s' % f_main())"
   ]
  },
  {
   "cell_type": "markdown",
   "metadata": {},
   "source": [
    "## Let's get to work!\n",
    "\n",
    "Our toolkit contains:\n",
    "\n",
    "- Lambda expressions\n",
    "- Decorators\n",
    "- Higher-order functions"
   ]
  },
  {
   "cell_type": "code",
   "execution_count": null,
   "metadata": {
    "collapsed": false
   },
   "outputs": [
    {
     "name": "stdout",
     "output_type": "stream",
     "text": [
      "Enter an integer: 1\n",
      "Enter an operator (+, -, *, /): +\n",
      "Enter an integer: 2\n",
      "3\n",
      "Enter an integer: 3\n",
      "Enter an operator (+, -, *, /): /\n",
      "Enter an integer: 3\n",
      "1.0\n"
     ]
    }
   ],
   "source": [
    "OPERATORS = '+', '-', '*', '/'\n",
    "\n",
    "\n",
    "def maybe(fnc):\n",
    "    \n",
    "    \"\"\"Turns Exceptions into return values.\"\"\"\n",
    "    \n",
    "    def inner(*args):\n",
    "        \n",
    "        for a in args:\n",
    "            if isinstance(a, Exception):\n",
    "                return a\n",
    "        try:\n",
    "            return fnc(*args)\n",
    "        except Exception as e:\n",
    "            return e\n",
    "        \n",
    "    return inner\n",
    "\n",
    "\n",
    "def repeat(fnc, until):\n",
    "    \n",
    "    \"\"\"Repeats a function until its return value meets\n",
    "    the stop criterion.\"\"\"\n",
    "    \n",
    "    def inner(*args):\n",
    "\n",
    "        while True:\n",
    "            result = fnc(*args)\n",
    "            if until(result):\n",
    "                return result\n",
    "            \n",
    "    return inner\n",
    "\n",
    "\n",
    "is_int = lambda i: isinstance(i, int)\n",
    "get_number = lambda: int(input('Enter an integer: '))\n",
    "safe_get_number = repeat(maybe(get_number), until=is_int)\n",
    "\n",
    "is_operator = lambda o: o in OPERATORS\n",
    "get_operator = lambda: input('Enter an operator (+, -, *, /): ')\n",
    "safe_get_operator = repeat(get_operator, until=is_operator)\n",
    "\n",
    "\n",
    "calculate = lambda number1, operator, number2: \\\n",
    "    number1+number2 if operator == '+' \\\n",
    "    else number1-number2 if operator == '-' \\\n",
    "    else number1/number2 if operator == '/' \\\n",
    "    else number1*number2 if operator == '*' \\\n",
    "    else None    \n",
    "\n",
    "main = lambda: calculate(\n",
    "        safe_get_number(),\n",
    "        safe_get_operator(),\n",
    "        safe_get_number(),\n",
    "        )\n",
    "\n",
    "forever = lambda retval: False\n",
    "main_loop = repeat(lambda: print(main()), until=forever)\n",
    "\n",
    "main_loop()"
   ]
  }
 ],
 "metadata": {
  "kernelspec": {
   "display_name": "Python 3",
   "language": "python",
   "name": "python3"
  },
  "language_info": {
   "codemirror_mode": {
    "name": "ipython",
    "version": 3
   },
   "file_extension": ".py",
   "mimetype": "text/x-python",
   "name": "python",
   "nbconvert_exporter": "python",
   "pygments_lexer": "ipython3",
   "version": "3.5.3"
  }
 },
 "nbformat": 4,
 "nbformat_minor": 2
}
