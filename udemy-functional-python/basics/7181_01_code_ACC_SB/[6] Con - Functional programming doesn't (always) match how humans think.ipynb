{
 "cells": [
  {
   "cell_type": "markdown",
   "metadata": {},
   "source": [
    "# Con: Functional programming doesn't (always) match how humans think\n",
    "\n",
    "## Consider voting\n",
    "\n",
    "Political voting has at least two actors: the voter and the politician. Voting is an action of the voter; we don't think of being voting upong as an action of the politician. The politician that was voted upon is a property of the voter. The number of votes received is a property of the politician.\n",
    "\n",
    "This logic can be beautifully encapsulated by object-oriented programming\n",
    "\n",
    "\n",
    "## An object-oriented approach"
   ]
  },
  {
   "cell_type": "code",
   "execution_count": 1,
   "metadata": {
    "collapsed": false
   },
   "outputs": [
    {
     "name": "stdout",
     "output_type": "stream",
     "text": [
      "Jean voted for Macron\n",
      "Macron received 1 vote(s)\n"
     ]
    }
   ],
   "source": [
    "class Voter:\n",
    "    \n",
    "    def __init__(self, name):\n",
    "        \n",
    "        self.name = name\n",
    "        self.voted_for = None\n",
    "        \n",
    "    def vote(self, politician):\n",
    "        \n",
    "        self.voted_for = politician\n",
    "        politician.votes += 1\n",
    "        \n",
    "    def __str__(self):\n",
    "        \n",
    "        return self.name        \n",
    "        \n",
    "        \n",
    "class Politician:\n",
    "    \n",
    "    def __init__(self, name):\n",
    "        \n",
    "        self.name = name\n",
    "        self.votes = 0\n",
    "        \n",
    "    def __str__(self):\n",
    "        \n",
    "        return self.name\n",
    "        \n",
    "\n",
    "macron = Politician('Macron')\n",
    "jean = Voter('Jean')\n",
    "jean.vote(macron)\n",
    "print('%s voted for %s' % (jean, jean.voted_for))\n",
    "print('%s received %d vote(s)' % (macron, macron.votes))"
   ]
  },
  {
   "cell_type": "markdown",
   "metadata": {},
   "source": [
    "## A functional approach\n",
    "\n",
    "We can implement the same logic using purely functional programming. But the result is clunky, and less intuitive then the object oriented counterpart."
   ]
  },
  {
   "cell_type": "code",
   "execution_count": 2,
   "metadata": {
    "collapsed": false
   },
   "outputs": [
    {
     "name": "stdout",
     "output_type": "stream",
     "text": [
      "Jean voted for Macron\n",
      "Macron received 1 vote(s)\n"
     ]
    }
   ],
   "source": [
    "def vote(voters, politicians, voter, politician):\n",
    "    \n",
    "    voters[voter] = politician\n",
    "    if politician in politicians:\n",
    "        politicians[politician] += 1\n",
    "    else:\n",
    "        politicians[politician] = 1\n",
    "    return voters, politicians\n",
    "\n",
    "\n",
    "def voted_for(voters, voter):\n",
    "    \n",
    "    return '%s voted for %s' % (voter, voters.get(voter, None))\n",
    "\n",
    "\n",
    "def votes(politicians, politician):\n",
    "    \n",
    "    return '%s received %d vote(s)' % (politician, politicians.get(politician, 0))\n",
    "\n",
    "\n",
    "voters, politicians = vote({}, {}, 'Jean', 'Macron')\n",
    "print(voted_for(voters, 'Jean'))\n",
    "print(votes(politicians, 'Macron'))"
   ]
  }
 ],
 "metadata": {
  "kernelspec": {
   "display_name": "Python 3",
   "language": "python",
   "name": "python3"
  },
  "language_info": {
   "codemirror_mode": {
    "name": "ipython",
    "version": 3
   },
   "file_extension": ".py",
   "mimetype": "text/x-python",
   "name": "python",
   "nbconvert_exporter": "python",
   "pygments_lexer": "ipython3",
   "version": "3.5.3"
  }
 },
 "nbformat": 4,
 "nbformat_minor": 2
}
