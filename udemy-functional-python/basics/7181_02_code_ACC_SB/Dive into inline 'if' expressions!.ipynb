{
 "cells": [
  {
   "cell_type": "markdown",
   "metadata": {},
   "source": [
    "## Conditional branching: The procedural way\n",
    "\n",
    "Consider a simple, procedural implementation of a function that translates grade points (8) to grade descriptions ('good')."
   ]
  },
  {
   "cell_type": "code",
   "execution_count": 1,
   "metadata": {
    "collapsed": false
   },
   "outputs": [
    {
     "data": {
      "text/plain": [
       "'good'"
      ]
     },
     "execution_count": 1,
     "metadata": {},
     "output_type": "execute_result"
    }
   ],
   "source": [
    "def p_grade_description(gp):\n",
    "    \n",
    "    \"\"\"Dutch grades range between 0 and 10\"\"\"\n",
    "    \n",
    "    if gp > 7:\n",
    "        return 'good'\n",
    "    if gp > 5:\n",
    "        return 'sufficient'\n",
    "    return 'insufficient'\n",
    "\n",
    "p_grade_description(8)"
   ]
  },
  {
   "cell_type": "markdown",
   "metadata": {},
   "source": [
    "## Conditional branching: The functional way\n",
    "\n",
    "A functional implementation of `p_grade_description()` makese use of the `if` expression."
   ]
  },
  {
   "cell_type": "code",
   "execution_count": 6,
   "metadata": {
    "collapsed": false
   },
   "outputs": [
    {
     "data": {
      "text/plain": [
       "'sufficient'"
      ]
     },
     "execution_count": 6,
     "metadata": {},
     "output_type": "execute_result"
    }
   ],
   "source": [
    "(lambda gp: 'good' if gp > 7 else 'sufficient' if gp > 5 else 'insufficient')(6)"
   ]
  },
  {
   "cell_type": "markdown",
   "metadata": {},
   "source": [
    "## Concise, readable code\n",
    "\n",
    "You can use `if` expressions in procedural code as well to implement concise, readable conditions."
   ]
  },
  {
   "cell_type": "code",
   "execution_count": 8,
   "metadata": {
    "collapsed": false
   },
   "outputs": [
    {
     "name": "stdout",
     "output_type": "stream",
     "text": [
      "female\n"
     ]
    }
   ],
   "source": [
    "gender_code = 1\n",
    "gender = 'female' if gender_code else 'male'\n",
    "print(gender)"
   ]
  }
 ],
 "metadata": {
  "kernelspec": {
   "display_name": "Python 3",
   "language": "python",
   "name": "python3"
  },
  "language_info": {
   "codemirror_mode": {
    "name": "ipython",
    "version": 3
   },
   "file_extension": ".py",
   "mimetype": "text/x-python",
   "name": "python",
   "nbconvert_exporter": "python",
   "pygments_lexer": "ipython3",
   "version": "3.5.3"
  }
 },
 "nbformat": 4,
 "nbformat_minor": 2
}
