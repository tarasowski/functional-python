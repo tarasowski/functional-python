{
 "cells": [
  {
   "cell_type": "markdown",
   "metadata": {},
   "source": [
    "## Some functions are expensive\n",
    "\n",
    "Let's consider a function that can take a long time to execute."
   ]
  },
  {
   "cell_type": "code",
   "execution_count": 2,
   "metadata": {
    "collapsed": false
   },
   "outputs": [
    {
     "name": "stdout",
     "output_type": "stream",
     "text": [
      "999983\n"
     ]
    }
   ],
   "source": [
    "def prime(n):\n",
    "    \n",
    "    for i in range(n, 0, -1):\n",
    "        if all([i // x != i / x for x in range(i-1, 1, -1)]):\n",
    "            return i\n",
    "        \n",
    "print(prime(1000000))"
   ]
  },
  {
   "cell_type": "markdown",
   "metadata": {},
   "source": [
    "## Caching\n",
    "\n",
    "We can speed up function calls by storing the result in a cache."
   ]
  },
  {
   "cell_type": "code",
   "execution_count": 3,
   "metadata": {
    "collapsed": false
   },
   "outputs": [
    {
     "name": "stdout",
     "output_type": "stream",
     "text": [
      "999983\n",
      "999983\n"
     ]
    }
   ],
   "source": [
    "cache = {}\n",
    "\n",
    "def cached_prime(n):\n",
    "    \n",
    "    if n in cache:\n",
    "        return cache[n]    \n",
    "    for i in range(n, 0, -1):\n",
    "        if all([i // x != i / x for x in range(i-1, 1, -1)]):\n",
    "            cache[n] = i\n",
    "            return i\n",
    "        \n",
    "print(cached_prime(1000000))\n",
    "print(cached_prime(1000000))"
   ]
  },
  {
   "cell_type": "markdown",
   "metadata": {},
   "source": [
    "## Memoization\n",
    "\n",
    "Memoization is a type of caching in which return values are stored for specific arguments. Therefore, the implementation above is an example of memoization. But it can be implemented more elegantly using a decorator!"
   ]
  },
  {
   "cell_type": "code",
   "execution_count": 4,
   "metadata": {
    "collapsed": false
   },
   "outputs": [
    {
     "name": "stdout",
     "output_type": "stream",
     "text": [
      "999983\n",
      "999983\n"
     ]
    }
   ],
   "source": [
    "def memoize(fnc):\n",
    "    \n",
    "    cache = {}\n",
    "    \n",
    "    def inner(*args):\n",
    "        \n",
    "        if args in cache:\n",
    "            return cache[args]\n",
    "        cache[args] = fnc(*args)\n",
    "        return cache[args]\n",
    "    \n",
    "    return inner\n",
    "\n",
    "\n",
    "@memoize\n",
    "def memoized_prime(n):\n",
    "    \n",
    "    for i in range(n, 0, -1):\n",
    "        if all([i // x != i / x for x in range(i-1, 1, -1)]):\n",
    "            return i\n",
    "        \n",
    "\n",
    "print(memoized_prime(1000000))\n",
    "print(memoized_prime(1000000))"
   ]
  }
 ],
 "metadata": {
  "kernelspec": {
   "display_name": "Python 3",
   "language": "python",
   "name": "python3"
  },
  "language_info": {
   "codemirror_mode": {
    "name": "ipython",
    "version": 3
   },
   "file_extension": ".py",
   "mimetype": "text/x-python",
   "name": "python",
   "nbconvert_exporter": "python",
   "pygments_lexer": "ipython3",
   "version": "3.5.3"
  }
 },
 "nbformat": 4,
 "nbformat_minor": 2
}
