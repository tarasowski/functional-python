{
 "cells": [
  {
   "cell_type": "markdown",
   "metadata": {},
   "source": [
    "## Dict comprehensions: Basic syntax\n",
    "\n",
    "- Basic syntax: `{key: value for key, value in iterable}`\n",
    "- The curly braces are necessary!\n",
    "\n",
    "Let's first consider how you could create a `dict` that maps animal species onto their class. Ideally, we would like to Capitalize the strings!"
   ]
  },
  {
   "cell_type": "code",
   "execution_count": 2,
   "metadata": {
    "collapsed": false
   },
   "outputs": [
    {
     "name": "stdout",
     "output_type": "stream",
     "text": [
      "{'Whale': 'Mammal', 'Grasshopper': 'Insect', 'Lizard': 'Reptile'}\n"
     ]
    }
   ],
   "source": [
    "SPECIES = 'whale', 'grasshopper', 'lizard'\n",
    "CLASS = 'mammal', 'insect', 'reptile'\n",
    "\n",
    "d = {}\n",
    "for species, class_ in zip(SPECIES, CLASS):\n",
    "    d[species.capitalize()] = class_.capitalize()\n",
    "print(d)"
   ]
  },
  {
   "cell_type": "markdown",
   "metadata": {},
   "source": [
    "Now let's implement this with a `dict` comprehension:"
   ]
  },
  {
   "cell_type": "code",
   "execution_count": 4,
   "metadata": {
    "collapsed": false
   },
   "outputs": [
    {
     "name": "stdout",
     "output_type": "stream",
     "text": [
      "{'Whale': 'Mammal', 'Grasshopper': 'Insect', 'Lizard': 'Reptile'}\n"
     ]
    }
   ],
   "source": [
    "d = {species.capitalize(): class_.capitalize() for species, class_ in zip(SPECIES, CLASS)}\n",
    "print(d)"
   ]
  },
  {
   "cell_type": "markdown",
   "metadata": {},
   "source": [
    "## Filtering dict comprehensions\n",
    "\n",
    "- Filtering syntax: `{key: value for key, value in iterable if expression}`\n",
    "- This is an alternative (in many cases) to the continue statement\n",
    "\n",
    "Let's say that we don't want to include insects! Without a `dict` comprehension, we might do this as follows:"
   ]
  },
  {
   "cell_type": "code",
   "execution_count": 5,
   "metadata": {
    "collapsed": false
   },
   "outputs": [
    {
     "name": "stdout",
     "output_type": "stream",
     "text": [
      "{'Whale': 'Mammal', 'Lizard': 'Reptile'}\n"
     ]
    }
   ],
   "source": [
    "d = {}\n",
    "for species, class_ in zip(SPECIES, CLASS):\n",
    "    if class_ == 'insect':\n",
    "        continue\n",
    "    d[species.capitalize()] = class_.capitalize()\n",
    "print(d)"
   ]
  },
  {
   "cell_type": "markdown",
   "metadata": {},
   "source": [
    "With a `dict` comprehension, this becomes:"
   ]
  },
  {
   "cell_type": "code",
   "execution_count": 6,
   "metadata": {
    "collapsed": false
   },
   "outputs": [
    {
     "name": "stdout",
     "output_type": "stream",
     "text": [
      "{'Whale': 'Mammal', 'Lizard': 'Reptile'}\n"
     ]
    }
   ],
   "source": [
    "d = {\n",
    "    species.capitalize(): class_.capitalize()\n",
    "    for species, class_ in zip(SPECIES, CLASS)\n",
    "    if class_ != 'insect'\n",
    "}\n",
    "print(d)"
   ]
  }
 ],
 "metadata": {
  "kernelspec": {
   "display_name": "Python 3",
   "language": "python",
   "name": "python3"
  },
  "language_info": {
   "codemirror_mode": {
    "name": "ipython",
    "version": 3
   },
   "file_extension": ".py",
   "mimetype": "text/x-python",
   "name": "python",
   "nbconvert_exporter": "python",
   "pygments_lexer": "ipython3",
   "version": "3.6.3"
  }
 },
 "nbformat": 4,
 "nbformat_minor": 2
}
