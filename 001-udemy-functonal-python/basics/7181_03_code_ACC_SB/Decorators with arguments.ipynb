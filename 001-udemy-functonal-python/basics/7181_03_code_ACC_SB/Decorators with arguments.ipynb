{
 "cells": [
  {
   "cell_type": "markdown",
   "metadata": {},
   "source": [
    "## Let's start with our factorial function\n",
    "\n",
    "For no particular reason. We just need a function that we can time!"
   ]
  },
  {
   "cell_type": "code",
   "execution_count": 1,
   "metadata": {
    "collapsed": true
   },
   "outputs": [],
   "source": [
    "def factorial(n):\n",
    "    \n",
    "    return 1 if n == 0 else n*factorial(n-1)"
   ]
  },
  {
   "cell_type": "markdown",
   "metadata": {},
   "source": [
    "## What if we want to specify the units of time?\n",
    "\n",
    "If we want to specify the units of time (seconds or milliseconds), we need to provide the units of time as arguments to the decorator. We can do this, but it requires another level of nesting!"
   ]
  },
  {
   "cell_type": "code",
   "execution_count": 3,
   "metadata": {
    "collapsed": false
   },
   "outputs": [
    {
     "data": {
      "text/plain": [
       "0.3948211669921875"
      ]
     },
     "execution_count": 3,
     "metadata": {},
     "output_type": "execute_result"
    }
   ],
   "source": [
    "import time\n",
    "\n",
    "\n",
    "def timer_with_arguments(units='s'):\n",
    "\n",
    "    def timer(fnc):\n",
    "\n",
    "        def inner(arg):\n",
    "\n",
    "            \"\"\"Inner function\"\"\"\n",
    "\n",
    "            t0 = time.time()\n",
    "            fnc(arg)\n",
    "            t1 = time.time()        \n",
    "            diff = t1-t0\n",
    "            if units == 'ms':\n",
    "                diff *= 1000\n",
    "            return diff\n",
    "\n",
    "        return inner\n",
    "    \n",
    "    return timer\n",
    "\n",
    "\n",
    "timed_factorial = timer_with_arguments(units='ms')(factorial)\n",
    "timed_factorial(500)"
   ]
  },
  {
   "cell_type": "markdown",
   "metadata": {},
   "source": [
    "## That's a decorator with arguments!\n",
    "\n",
    "\n",
    "Again, using the `@` syntax, this is gives very clean code!"
   ]
  },
  {
   "cell_type": "code",
   "execution_count": 6,
   "metadata": {
    "collapsed": false
   },
   "outputs": [
    {
     "data": {
      "text/plain": [
       "0.00014352798461914062"
      ]
     },
     "execution_count": 6,
     "metadata": {},
     "output_type": "execute_result"
    }
   ],
   "source": [
    "@timer_with_arguments(units='s')\n",
    "def factorial(n):\n",
    "    \n",
    "    return 1 if n == 0 else n*factorial(n-1)\n",
    "\n",
    "\n",
    "factorial(100)"
   ]
  }
 ],
 "metadata": {
  "kernelspec": {
   "display_name": "Python 3",
   "language": "python",
   "name": "python3"
  },
  "language_info": {
   "codemirror_mode": {
    "name": "ipython",
    "version": 3
   },
   "file_extension": ".py",
   "mimetype": "text/x-python",
   "name": "python",
   "nbconvert_exporter": "python",
   "pygments_lexer": "ipython3",
   "version": "3.5.3"
  }
 },
 "nbformat": 4,
 "nbformat_minor": 2
}
