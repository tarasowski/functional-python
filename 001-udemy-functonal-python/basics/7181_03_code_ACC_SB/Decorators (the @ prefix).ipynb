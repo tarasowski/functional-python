{
 "cells": [
  {
   "cell_type": "markdown",
   "metadata": {},
   "source": [
    "## Let's start with our factorial function\n",
    "\n",
    "For no particular reason. We just need a function that we can time!"
   ]
  },
  {
   "cell_type": "code",
   "execution_count": 1,
   "metadata": {
    "collapsed": false
   },
   "outputs": [],
   "source": [
    "def factorial(n):\n",
    "    \n",
    "    return 1 if n == 0 else n*factorial(n-1)"
   ]
  },
  {
   "cell_type": "markdown",
   "metadata": {},
   "source": [
    "## Another way of timing a function\n",
    "\n",
    "Here's another way to time a function: by writing a wrapper function (`timer()`) that takes a function as an argument (`fnc`), and returns a new function that times and executes `fnc`!"
   ]
  },
  {
   "cell_type": "code",
   "execution_count": 3,
   "metadata": {
    "collapsed": false
   },
   "outputs": [
    {
     "data": {
      "text/plain": [
       "0.0014193058013916016"
      ]
     },
     "execution_count": 3,
     "metadata": {},
     "output_type": "execute_result"
    }
   ],
   "source": [
    "import time\n",
    "\n",
    "def timer(fnc):\n",
    "    \n",
    "    def inner(arg):\n",
    "        \n",
    "        t0 = time.time()\n",
    "        fnc(arg)\n",
    "        t1 = time.time()\n",
    "        return t1-t0\n",
    "    \n",
    "    return inner\n",
    "\n",
    "\n",
    "timed_factorial = timer(factorial)\n",
    "timed_factorial(500)"
   ]
  },
  {
   "cell_type": "markdown",
   "metadata": {},
   "source": [
    "## That's a decorator! (But there's a nicer syntax)\n",
    "\n",
    "The `timer` function that we've defined above is a decorator. You can apply a decorator to a function directly, using the `@` syntax."
   ]
  },
  {
   "cell_type": "code",
   "execution_count": 4,
   "metadata": {
    "collapsed": false
   },
   "outputs": [
    {
     "data": {
      "text/plain": [
       "0.00027632713317871094"
      ]
     },
     "execution_count": 4,
     "metadata": {},
     "output_type": "execute_result"
    }
   ],
   "source": [
    "@timer\n",
    "def timed_factorial(n):\n",
    "    \n",
    "    return 1 if n == 0 else n*factorial(n-1)\n",
    "\n",
    "\n",
    "timed_factorial(500)"
   ]
  }
 ],
 "metadata": {
  "kernelspec": {
   "display_name": "Python 3",
   "language": "python",
   "name": "python3"
  },
  "language_info": {
   "codemirror_mode": {
    "name": "ipython",
    "version": 3
   },
   "file_extension": ".py",
   "mimetype": "text/x-python",
   "name": "python",
   "nbconvert_exporter": "python",
   "pygments_lexer": "ipython3",
   "version": "3.5.3"
  }
 },
 "nbformat": 4,
 "nbformat_minor": 2
}
