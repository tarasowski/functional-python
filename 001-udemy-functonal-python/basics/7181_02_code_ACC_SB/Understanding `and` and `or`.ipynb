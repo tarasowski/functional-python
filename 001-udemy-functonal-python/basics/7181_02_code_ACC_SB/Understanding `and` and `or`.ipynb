{
 "cells": [
  {
   "cell_type": "markdown",
   "metadata": {},
   "source": [
    "## How do `and` and `or` really work?\n",
    "\n",
    "Let's consider these two custom implementations of `and` and `or`."
   ]
  },
  {
   "cell_type": "code",
   "execution_count": 1,
   "metadata": {
    "collapsed": false
   },
   "outputs": [],
   "source": [
    "def my_and(*values):\n",
    "    \n",
    "    \"\"\"An implementation of `and`, which accepts a list of arguments\n",
    "    and returns the first argument that is False or the last argument\n",
    "    if all arguments are True.\"\"\"\n",
    "    \n",
    "    for value in values:\n",
    "        if not value:\n",
    "            return value\n",
    "    return value\n",
    "\n",
    "\n",
    "def my_or(*values):\n",
    "    \n",
    "    \"\"\"And implementation of `or`, which accepts a list of arguments\n",
    "    and returns the first argument that is True or the last argument\n",
    "    if all arguments are False.\"\"\"\n",
    "    \n",
    "    for value in values:\n",
    "        if value:\n",
    "            return value\n",
    "    return value"
   ]
  },
  {
   "cell_type": "markdown",
   "metadata": {},
   "source": [
    "## Unit testing\n",
    "\n",
    "Let's try a few testcases to see if `my_and()` and `my_or()` are really equivalent to `and` and `or`."
   ]
  },
  {
   "cell_type": "code",
   "execution_count": 5,
   "metadata": {
    "collapsed": false
   },
   "outputs": [
    {
     "data": {
      "text/plain": [
       "True"
      ]
     },
     "execution_count": 5,
     "metadata": {},
     "output_type": "execute_result"
    }
   ],
   "source": [
    "my_or('', 'a', '') == ('' or 'a' or '')"
   ]
  },
  {
   "cell_type": "markdown",
   "metadata": {},
   "source": [
    "## Flow control\n",
    "\n",
    "But `and` and `or` have another important property, which our custom implementations do not have: Not all arguments are even evaluated! This makes it possible to use `and` and `or` as flow control tools."
   ]
  },
  {
   "cell_type": "code",
   "execution_count": 14,
   "metadata": {
    "collapsed": false
   },
   "outputs": [
    {
     "name": "stdout",
     "output_type": "stream",
     "text": [
      "x\n"
     ]
    },
    {
     "data": {
      "text/plain": [
       "True"
      ]
     },
     "execution_count": 14,
     "metadata": {},
     "output_type": "execute_result"
    }
   ],
   "source": [
    "# We limit ourselves to vertebrates, and even then this is not biologically accurate!\n",
    "ANIMALS = 'mammal', 'reptile', 'amphibian', 'bird'\n",
    "EGG_LAYING_ANIMALS = 'reptile', 'amphibian', 'bird'\n",
    "\n",
    "is_animal = lambda animal: animal in ANIMALS\n",
    "animal_lays_eggs = lambda animal: print('x') or animal in EGG_LAYING_ANIMALS\n",
    "\n",
    "lays_eggs = lambda thing: is_animal(thing) and animal_lays_eggs(thing)\n",
    "lays_eggs('reptile')"
   ]
  }
 ],
 "metadata": {
  "kernelspec": {
   "display_name": "Python 3",
   "language": "python",
   "name": "python3"
  },
  "language_info": {
   "codemirror_mode": {
    "name": "ipython",
    "version": 3
   },
   "file_extension": ".py",
   "mimetype": "text/x-python",
   "name": "python",
   "nbconvert_exporter": "python",
   "pygments_lexer": "ipython3",
   "version": "3.5.3"
  }
 },
 "nbformat": 4,
 "nbformat_minor": 2
}
