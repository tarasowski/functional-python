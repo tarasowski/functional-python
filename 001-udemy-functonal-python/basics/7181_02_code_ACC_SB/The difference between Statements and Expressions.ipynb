{
 "cells": [
  {
   "cell_type": "markdown",
   "metadata": {},
   "source": [
    "## Statements\n",
    "\n",
    "### Assignment\n",
    "\n",
    "Procedural programming relies heavily on assignments, which are statements."
   ]
  },
  {
   "cell_type": "code",
   "execution_count": null,
   "metadata": {
    "collapsed": false
   },
   "outputs": [],
   "source": [
    "x = 0\n",
    "x += 1"
   ]
  },
  {
   "cell_type": "markdown",
   "metadata": {},
   "source": [
    "### Conditional branching (if, elif, else)\n",
    "\n",
    "In procedural programming, branching is often implemented with `if` statements, and the associated `elif` and `else` statements."
   ]
  },
  {
   "cell_type": "code",
   "execution_count": null,
   "metadata": {
    "collapsed": false
   },
   "outputs": [],
   "source": [
    "if x == 1:\n",
    "    print('x == 1')\n",
    "elif x == 2:\n",
    "    print('x == 2')    \n",
    "else:\n",
    "    print('x not in [1, 2]')"
   ]
  },
  {
   "cell_type": "markdown",
   "metadata": {},
   "source": [
    "### Loops\n",
    "\n",
    "In procedural programming, loops are generally implemented with `for` or `while` statements."
   ]
  },
  {
   "cell_type": "code",
   "execution_count": null,
   "metadata": {
    "collapsed": false
   },
   "outputs": [],
   "source": [
    "for x in range(2):\n",
    "    print(x*2)\n",
    "    \n",
    "while True:\n",
    "    break"
   ]
  },
  {
   "cell_type": "markdown",
   "metadata": {},
   "source": [
    "### Function, generator, and class definitions\n",
    "\n",
    "In procedural programming, functions and classes are defined using `def` and `class` statements. `return` and `yield` are also statements."
   ]
  },
  {
   "cell_type": "code",
   "execution_count": null,
   "metadata": {
    "collapsed": true
   },
   "outputs": [],
   "source": [
    "class MyClass:\n",
    "    pass\n",
    "\n",
    "def my_function(x):\n",
    "    return x*2\n",
    "\n",
    "def my_generator(x):\n",
    "    yield x*2"
   ]
  },
  {
   "cell_type": "markdown",
   "metadata": {},
   "source": [
    "### Other statements\n",
    "\n",
    "Python knows various other statements. You've probably seen them all."
   ]
  },
  {
   "cell_type": "code",
   "execution_count": null,
   "metadata": {
    "collapsed": false
   },
   "outputs": [],
   "source": [
    "import os\n",
    "\n",
    "assert True\n",
    "\n",
    "pass\n",
    "\n",
    "del x\n",
    "\n",
    "try:\n",
    "    raise Exception()\n",
    "except:\n",
    "    pass\n",
    "\n",
    "with open('/dev/null') as fd:\n",
    "    pass\n"
   ]
  },
  {
   "cell_type": "markdown",
   "metadata": {},
   "source": [
    "## Expressions\n",
    "\n",
    "An expression is something that gives a value, and can be printed out. We will meet many expressions in this course! Here is a selection."
   ]
  },
  {
   "cell_type": "code",
   "execution_count": 1,
   "metadata": {
    "collapsed": false
   },
   "outputs": [
    {
     "name": "stdout",
     "output_type": "stream",
     "text": [
      "20\n",
      "a\n",
      "10\n",
      "None\n",
      "[0, 2]\n"
     ]
    }
   ],
   "source": [
    "# Values are expressions\n",
    "print(10*2)\n",
    "print('a')\n",
    "# Function calls are expressions\n",
    "print(print(10))\n",
    "# List comprehensions are expressions\n",
    "print([x*2 for x in range(2)])"
   ]
  }
 ],
 "metadata": {
  "kernelspec": {
   "display_name": "Python 3",
   "language": "python",
   "name": "python3"
  },
  "language_info": {
   "codemirror_mode": {
    "name": "ipython",
    "version": 3
   },
   "file_extension": ".py",
   "mimetype": "text/x-python",
   "name": "python",
   "nbconvert_exporter": "python",
   "pygments_lexer": "ipython3",
   "version": "3.5.3"
  }
 },
 "nbformat": 4,
 "nbformat_minor": 2
}
