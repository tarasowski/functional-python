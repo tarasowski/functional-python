{
 "cells": [
  {
   "cell_type": "markdown",
   "metadata": {},
   "source": [
    "# Pro: You can (at least in theory!) prove that your code is correct\n",
    "\n",
    "Functional programming is characterized by:\n",
    "\n",
    "- Short functions\n",
    "- Referential transparency (return values are completely predictable based on arguments)\n",
    "\n",
    "These properties make it possible, in theory, to prove that functions do what they should do.\n",
    "\n",
    "This contrasts with the traditional approach of testing functions on a case-by-base basis, or so-called *unit testing*.\n",
    "\n",
    "## Smile!"
   ]
  },
  {
   "cell_type": "code",
   "execution_count": 2,
   "metadata": {
    "collapsed": false
   },
   "outputs": [
    {
     "name": "stdout",
     "output_type": "stream",
     "text": [
      "['☺', '☺', '☺']\n"
     ]
    }
   ],
   "source": [
    "import itertools\n",
    "\n",
    "\n",
    "def smile(l):\n",
    "    \n",
    "    \"\"\"Takes a list of integers. For each integer (i), create\n",
    "    a list of smileys of length i. Then flatten this list and\n",
    "    return the result.\"\"\"\n",
    "\n",
    "    # This is very functional!\n",
    "    return list(itertools.chain(*[['☺']*i for i in l]))\n",
    "\n",
    "# [1,2] → [ ['☺'], ['☺', '☺'] ] → ['☺', '☺', '☺']\n",
    "print(smile([1,2]))"
   ]
  },
  {
   "cell_type": "markdown",
   "metadata": {},
   "source": [
    "## Unit testing\n",
    "\n",
    "If we want to test if `smile()` works as it should, we can design a set of test cases. And then, for each of these test cases, we verify that the output matches our expectation. This is called *unit testing*.\n",
    "\n",
    "Here I use simple `assert` statements; in real life, you would generally use some library designed specifically for unit testing, such as `nose` or Python's built-in `unittest`."
   ]
  },
  {
   "cell_type": "code",
   "execution_count": 8,
   "metadata": {
    "collapsed": false
   },
   "outputs": [
    {
     "name": "stdout",
     "output_type": "stream",
     "text": [
      "Starting test\n",
      "Done\n"
     ]
    }
   ],
   "source": [
    "print('Starting test')\n",
    "assert(smile([]) == [])\n",
    "assert(smile([1]) == ['☺'])\n",
    "assert(smile([0]) == [])\n",
    "assert(smile([1,0,2]) == ['☺', '☺', '☺'])\n",
    "print('Done')"
   ]
  },
  {
   "cell_type": "markdown",
   "metadata": {},
   "source": [
    "## Provability\n",
    "\n",
    "But we can also look inside the function, and try to understand what it does. In this case, we can actually simplify the function a lot!\n",
    "\n",
    "`l×a + l×b + l×c →  l×(a+b+c)`\n",
    "\n",
    "And now it's obvious that the function is correct. (And that the initial solution was unnecessarily complicated!)"
   ]
  },
  {
   "cell_type": "code",
   "execution_count": 7,
   "metadata": {
    "collapsed": false
   },
   "outputs": [
    {
     "name": "stdout",
     "output_type": "stream",
     "text": [
      "['☺', '☺', '☺']\n"
     ]
    }
   ],
   "source": [
    "def smile(l):\n",
    "    \n",
    "    return ['☺'] * sum(l)\n",
    "\n",
    "print(smile([1,2]))"
   ]
  }
 ],
 "metadata": {
  "kernelspec": {
   "display_name": "Python 3",
   "language": "python",
   "name": "python3"
  },
  "language_info": {
   "codemirror_mode": {
    "name": "ipython",
    "version": 3
   },
   "file_extension": ".py",
   "mimetype": "text/x-python",
   "name": "python",
   "nbconvert_exporter": "python",
   "pygments_lexer": "ipython3",
   "version": "3.5.3"
  }
 },
 "nbformat": 4,
 "nbformat_minor": 2
}
