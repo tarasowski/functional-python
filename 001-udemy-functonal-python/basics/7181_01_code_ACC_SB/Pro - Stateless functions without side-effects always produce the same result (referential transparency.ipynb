{
 "cells": [
  {
   "cell_type": "markdown",
   "metadata": {},
   "source": [
    "# Stateless functions without side-effects always produce the same result\n",
    "\n",
    "Or: *Referential transparency*\n",
    "\n",
    "## A stateful example\n",
    "\n",
    "Using `global` variables in functions is one example of relying on, and modifying state."
   ]
  },
  {
   "cell_type": "code",
   "execution_count": 1,
   "metadata": {
    "collapsed": false
   },
   "outputs": [
    {
     "name": "stdout",
     "output_type": "stream",
     "text": [
      "[John] Hello world!\n",
      "[Carlos] Foobar!\n"
     ]
    }
   ],
   "source": [
    "current_speaker = None\n",
    "\n",
    "\n",
    "def register(name):\n",
    "    \n",
    "    global current_speaker\n",
    "    current_speaker = name\n",
    "    \n",
    "    \n",
    "def speak(text):\n",
    "    \n",
    "    print('[%s] %s' % (current_speaker, text))\n",
    "    \n",
    "    \n",
    "register('John')\n",
    "speak('Hello world!')\n",
    "register('Carlos')\n",
    "speak('Foobar!')"
   ]
  },
  {
   "cell_type": "markdown",
   "metadata": {},
   "source": [
    "## Objects are also states\n",
    "\n",
    "Objects are, by definition, states. Therefore, methods (object functions) are stateful."
   ]
  },
  {
   "cell_type": "code",
   "execution_count": 2,
   "metadata": {
    "collapsed": false
   },
   "outputs": [
    {
     "name": "stdout",
     "output_type": "stream",
     "text": [
      "[John] Hello world!\n",
      "[Carlos] Foobar!\n"
     ]
    }
   ],
   "source": [
    "class Speaker():\n",
    "    \n",
    "    def __init__(self, name):\n",
    "        \n",
    "        self._name = name\n",
    "        \n",
    "    def speak(self, text):\n",
    "        \n",
    "        print('[%s] %s' % (self._name, text))\n",
    "        \n",
    "\n",
    "john = Speaker('John')\n",
    "john.speak('Hello world!')\n",
    "carlos = Speaker('Carlos')\n",
    "carlos.speak('Foobar!')"
   ]
  },
  {
   "cell_type": "markdown",
   "metadata": {},
   "source": [
    "## Stateless functions are often trivial\n",
    "\n",
    "A stateless function relies only on:\n",
    "\n",
    "- The arguments that have been passed to the function\n",
    "- Return values from other (stateless) functions\n",
    "\n",
    "The result is often a very simple function. But when was simplicity ever a bad thing?"
   ]
  },
  {
   "cell_type": "code",
   "execution_count": 3,
   "metadata": {
    "collapsed": false
   },
   "outputs": [
    {
     "name": "stdout",
     "output_type": "stream",
     "text": [
      "[John] Hello world!\n",
      "[Carlos] Foobar!\n"
     ]
    }
   ],
   "source": [
    "def speak(speaker, text):\n",
    "    \n",
    "    print('[%s] %s' % (speaker, text))\n",
    "    \n",
    "\n",
    "john = 'John'\n",
    "speak(john, 'Hello world!')\n",
    "carlos = 'Carlos'\n",
    "speak(carlos, 'Foobar!')"
   ]
  }
 ],
 "metadata": {
  "kernelspec": {
   "display_name": "Python 3",
   "language": "python",
   "name": "python3"
  },
  "language_info": {
   "codemirror_mode": {
    "name": "ipython",
    "version": 3
   },
   "file_extension": ".py",
   "mimetype": "text/x-python",
   "name": "python",
   "nbconvert_exporter": "python",
   "pygments_lexer": "ipython3",
   "version": "3.5.3"
  }
 },
 "nbformat": 4,
 "nbformat_minor": 2
}
